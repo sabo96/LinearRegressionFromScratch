{
  "nbformat": 4,
  "nbformat_minor": 0,
  "metadata": {
    "colab": {
      "provenance": [],
      "authorship_tag": "ABX9TyN+RW7YCLzE+zLqkkqmUsJo",
      "include_colab_link": true
    },
    "kernelspec": {
      "name": "python3",
      "display_name": "Python 3"
    },
    "language_info": {
      "name": "python"
    }
  },
  "cells": [
    {
      "cell_type": "markdown",
      "metadata": {
        "id": "view-in-github",
        "colab_type": "text"
      },
      "source": [
        "<a href=\"https://colab.research.google.com/github/sabo96/LinearRegressionFromScratch/blob/main/Linear_Regression.ipynb\" target=\"_parent\"><img src=\"https://colab.research.google.com/assets/colab-badge.svg\" alt=\"Open In Colab\"/></a>"
      ]
    },
    {
      "cell_type": "markdown",
      "source": [
        "# **Background Information**"
      ],
      "metadata": {
        "id": "ER6DCKeYaHBB"
      }
    },
    {
      "cell_type": "markdown",
      "source": [
        "### *Linear Regression*"
      ],
      "metadata": {
        "id": "XLp_uuIkhNaW"
      }
    },
    {
      "cell_type": "markdown",
      "source": [
        "The following algorithm describes the process to obtain a linear equation for the line of best fit (line of regression) when given a dataset of 𝑛 number of coordinates. The computed values of 𝑚 and 𝑏 correspond to the slope/gradient of the line and the y-intercept, respectively."
      ],
      "metadata": {
        "id": "fsSKkgYZWdox"
      }
    },
    {
      "cell_type": "markdown",
      "source": [
        "### *Calculations*"
      ],
      "metadata": {
        "id": "Uejqq4O9hOCu"
      }
    },
    {
      "cell_type": "markdown",
      "source": [
        "1. For $n$ values of coordinates ($x_i$, $y_i$) given, compute $(x_i)^{2}$\n",
        "\n",
        "2. Determine $n$ - the total number of values given (i.e. the total number of coordinates).\n",
        "\n",
        "3. Calculate:\n",
        "\n",
        "a) The sum of $x$\n",
        "- $Σx$\n",
        "\n",
        "\n",
        "b) The sum of $y$\n",
        "- $Σy$\n",
        "\n",
        "c) The sum of $x^2$\n",
        "- $Σx^2$\n",
        "\n",
        "d) The sum of $xy$\n",
        "- $Σxy$\n",
        "\n",
        "\n",
        "\n",
        "4. Input values into the equation for the gradient of a line, where the gradient $m$ = $nΣxy-(ΣxΣy)/nΣ(x^2)-(Σ𝑥)^2$\n",
        "\n",
        "5. Input values into the equation for the intercept of a line, where the intercept $b$ = $Σy-mΣx/n$\n",
        "\n",
        "\n",
        "\n",
        "6. We can test for the validity of our calculations by substituting our computed values of $m$ and $b$ into $y = m(x) + b$, the equation of a straight line or visually representing it in a graph.\n"
      ],
      "metadata": {
        "id": "ddubO2QvU5qx"
      }
    },
    {
      "cell_type": "markdown",
      "source": [
        "# **Code Implementation**"
      ],
      "metadata": {
        "id": "LlUGuBu2aMcg"
      }
    },
    {
      "cell_type": "code",
      "source": [
        "# step 1: for the values of x and y given, compute the square of x and the square of y.\n",
        "coordinates = [(2, 4), (5, 5), (7, 8)]\n",
        "x_squared= []\n",
        "xy= []\n",
        "\n",
        "for i in coordinates:\n",
        "  x_squared.append(i[0]**2)\n",
        "  xy.append(i[0]*i[1])"
      ],
      "metadata": {
        "id": "ScHaMdb3Wy_d"
      },
      "execution_count": 18,
      "outputs": []
    },
    {
      "cell_type": "code",
      "source": [
        "# print out values to ensure accuracy\n",
        "print('The values of x squared are', x_squared)\n",
        "print('The values of xy are', xy)"
      ],
      "metadata": {
        "colab": {
          "base_uri": "https://localhost:8080/"
        },
        "id": "fI2JWgObaUnw",
        "outputId": "15e05f62-fa98-47fe-e9d7-0f614520dca1"
      },
      "execution_count": 19,
      "outputs": [
        {
          "output_type": "stream",
          "name": "stdout",
          "text": [
            "The values of x squared are [4, 25, 49]\n",
            "The values of xy are [8, 25, 56]\n"
          ]
        }
      ]
    },
    {
      "cell_type": "code",
      "source": [
        "# step 2 - determine n (the total number of values given)\n",
        "n = len(coordinates)\n",
        "print('The total number of coordinates given are', n)"
      ],
      "metadata": {
        "colab": {
          "base_uri": "https://localhost:8080/"
        },
        "id": "NHWOEQXVXWR7",
        "outputId": "d8a22d1c-a317-4a5f-f560-1cc61df9eb7c"
      },
      "execution_count": 20,
      "outputs": [
        {
          "output_type": "stream",
          "name": "stdout",
          "text": [
            "The total number of coordinates given are 3\n"
          ]
        }
      ]
    },
    {
      "cell_type": "code",
      "source": [
        "# step 3a - calculate the sum of x\n",
        "x = [i[0] for i in coordinates]\n",
        "sum_of_x = sum(x)\n",
        "# step 3b - calculate the sum of y\n",
        "y = [i[1] for i in coordinates]\n",
        "sum_of_y = sum(y)\n",
        "# step 3c - calculate the sum of x-squared\n",
        "sum_x_squared = sum(x_squared)\n",
        "# step 3b - calculate the sum of xy\n",
        "sum_xy = sum(xy)"
      ],
      "metadata": {
        "id": "BjdwgnNxXfM3"
      },
      "execution_count": 16,
      "outputs": []
    },
    {
      "cell_type": "code",
      "source": [
        "# print out values to ensure accuracy\n",
        "print('The sum of x is', sum_of_x)\n",
        "print('The sum of y is', sum_of_y)\n",
        "print('The sum of x-squared is', sum_x_squared)\n",
        "print('The sum of xy is', sum_xy)"
      ],
      "metadata": {
        "colab": {
          "base_uri": "https://localhost:8080/"
        },
        "id": "mCOQ0vXwYzwF",
        "outputId": "d14a2626-33eb-45f1-c243-3229cb5488ea"
      },
      "execution_count": 17,
      "outputs": [
        {
          "output_type": "stream",
          "name": "stdout",
          "text": [
            "The sum of x is 14\n",
            "The sum of y is 17\n",
            "The sum of x-squared is 78\n",
            "The sum of xy is 89\n"
          ]
        }
      ]
    },
    {
      "cell_type": "code",
      "source": [
        "# step 4 - calculate m, the gradient of the line using the equation\n",
        "m = ((n*sum_xy)-((sum_of_x)*(sum_of_y)))/((n*sum_x_squared)-((sum_of_x)**2))\n",
        "print('The gradient (m) of the line given the coordinates is', m)"
      ],
      "metadata": {
        "colab": {
          "base_uri": "https://localhost:8080/"
        },
        "id": "vK9gjzOwXtPE",
        "outputId": "c67bf8ee-6a3a-42b6-ce65-b3fa0d63dc97"
      },
      "execution_count": 24,
      "outputs": [
        {
          "output_type": "stream",
          "name": "stdout",
          "text": [
            "The gradient (m) of the line given the coordinates is 0.7631578947368421\n"
          ]
        }
      ]
    },
    {
      "cell_type": "code",
      "source": [
        "# step 5 - calculate b, the intercept of the line, using the equation\n",
        "b = (sum_of_y-((m)*(sum_of_x)))/n\n",
        "print('The intercept (b) of the line given the coordinates is', b)"
      ],
      "metadata": {
        "colab": {
          "base_uri": "https://localhost:8080/"
        },
        "id": "MwO0V_ZJbNHx",
        "outputId": "b847f975-a06e-4aab-b587-1e382d68dfea"
      },
      "execution_count": 28,
      "outputs": [
        {
          "output_type": "stream",
          "name": "stdout",
          "text": [
            "The intercept (b) of the line given the coordinates is 2.1052631578947367\n"
          ]
        }
      ]
    },
    {
      "cell_type": "code",
      "source": [
        "import matplotlib.pyplot as plt\n",
        "import numpy as np\n",
        "\n",
        "plt.scatter(x,y, color='firebrick', label= 'Data Points')\n",
        "\n",
        "x_line = np.linspace(min(x), max(x), 100)\n",
        "y_line = m * x_line + b\n",
        "plt.plot(x_line, y_line, color='cornflowerblue', label='Line: y = {}x + {}'.format(m, b))\n",
        "\n",
        "title='Linear Regression'\n",
        "xlabel='x values'\n",
        "ylabel='y values'\n",
        "plt.title(title)\n",
        "plt.xlabel(xlabel)\n",
        "plt.ylabel(ylabel)\n",
        "plt.legend()\n",
        "plt.show()"
      ],
      "metadata": {
        "colab": {
          "base_uri": "https://localhost:8080/",
          "height": 472
        },
        "id": "YzVIK0WKbcXL",
        "outputId": "7638991a-5318-4cae-e5af-8f459aa34338"
      },
      "execution_count": 42,
      "outputs": [
        {
          "output_type": "display_data",
          "data": {
            "text/plain": [
              "<Figure size 640x480 with 1 Axes>"
            ],
            "image/png": "[encoded data removed]"
          },
          "metadata": {}
        }
      ]
    }
  ]
}